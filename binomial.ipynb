{
 "cells": [
  {
   "cell_type": "markdown",
   "source": [
    "# Binomial method for option pricing\n",
    "Using binomial method to price the option for american and european style options."
   ],
   "metadata": {
    "collapsed": false
   }
  },
  {
   "cell_type": "code",
   "execution_count": 1,
   "outputs": [],
   "source": [
    "# Import necessary libraries\n",
    "import numpy as np\n",
    "import pandas as pd\n",
    "import matplotlib.pyplot as plt\n",
    "import random\n"
   ],
   "metadata": {
    "collapsed": false
   }
  },
  {
   "cell_type": "code",
   "execution_count": 70,
   "outputs": [],
   "source": [
    "# Create a function for european option pricing\n",
    "def european_option_pricing(S, K, r, sigma, T, n, option_type='call'):\n",
    "    \"\"\"\n",
    "    S: initial stock price\n",
    "    K: strike price\n",
    "    r: risk free rate\n",
    "    sigma: volatility\n",
    "    T: time to maturity\n",
    "    n: number of steps\n",
    "    option_type: call or put\n",
    "    \"\"\"\n",
    "    # Calculate delta t\n",
    "    delta_t = T/n\n",
    "    # Calculate u and d\n",
    "    u = np.exp(sigma*np.sqrt(delta_t))\n",
    "    d = 1/u\n",
    "    # Calculate p\n",
    "    p = (np.exp(r*delta_t)-d)/(u-d)\n",
    "    # Create a matrix to store the stock price\n",
    "    stock_price = np.zeros((n+1, n+1))\n",
    "    # Calculate the stock price at each node\n",
    "    for i in range(n+1):\n",
    "        for j in range(i+1):\n",
    "            stock_price[j, i] = S*(d**j)*(u**(i-j))\n",
    "    # Create a matrix to store the option price\n",
    "    option_price = np.zeros((n+1, n+1))\n",
    "    # Calculate the option price at maturity\n",
    "    option_price[:, n] = np.maximum(np.zeros(n+1), stock_price[:, n]-K)\n",
    "    # Calculate the option price at each node\n",
    "    for i in range(n-1, -1, -1):\n",
    "        for j in range(i+1):\n",
    "            option_price[j, i] = np.exp(-r*delta_t)*(p*option_price[j, i+1]+(1-p)*option_price[j+1, i+1])\n",
    "    # Return the option price\n",
    "    if option_type == 'call':\n",
    "        return option_price[0, 0]\n",
    "    elif option_type == 'put':\n",
    "        return option_price[0, 0]-S+K*np.exp(-r*T)\n",
    "    else:\n",
    "        return 'Please enter a valid option type'\n"
   ],
   "metadata": {
    "collapsed": false
   }
  },
  {
   "cell_type": "code",
   "execution_count": 71,
   "outputs": [],
   "source": [
    "# Create a function for american option pricing\n",
    "def american_option_pricing(S, K, r, sigma, T, n, option_type='call'):\n",
    "    \"\"\"\n",
    "    S: initial stock price\n",
    "    K: strike price\n",
    "    r: risk free rate\n",
    "    sigma: volatility\n",
    "    T: time to maturity\n",
    "    n: number of steps\n",
    "    option_type: call or put\n",
    "    \"\"\"\n",
    "    # Calculate delta t\n",
    "    delta_t = T/n\n",
    "    # Calculate u and d\n",
    "    u = np.exp(sigma*np.sqrt(delta_t))\n",
    "    d = 1/u\n",
    "    # Calculate p\n",
    "    p = (np.exp(r*delta_t)-d)/(u-d)\n",
    "    # Create a matrix to store the stock price\n",
    "    stock_price = np.zeros((n+1, n+1))\n",
    "    # Calculate the stock price at each node\n",
    "    for i in range(n+1):\n",
    "        for j in range(i+1):\n",
    "            stock_price[j, i] = S*(d**j)*(u**(i-j))\n",
    "    # Create a matrix to store the option price\n",
    "    option_price = np.zeros((n+1, n+1))\n",
    "    # Calculate the option price at maturity\n",
    "    option_price[:, n] = np.maximum(np.zeros(n+1), stock_price[:, n]-K)\n",
    "    # Calculate the option price at each node\n",
    "    for i in range(n-1, -1, -1):\n",
    "        for j in range(i+1):\n",
    "            option_price[j, i] = np.maximum(np.exp(-r*delta_t)*(p*option_price[j, i+1]+(1-p)*option_price[j+1, i+1]), stock_price[j, i]-K)\n",
    "    # Return the option price\n",
    "    if option_type == 'call':\n",
    "        return option_price[0, 0]\n",
    "    elif option_type == 'put':\n",
    "        return option_price[0, 0]-S+K*np.exp(-r*T)\n",
    "    else:\n",
    "        return 'Please enter a valid option type'"
   ],
   "metadata": {
    "collapsed": false
   }
  },
  {
   "cell_type": "code",
   "execution_count": 72,
   "outputs": [
    {
     "name": "stdout",
     "output_type": "stream",
     "text": [
      "[*********************100%%**********************]  1 of 1 completed\n"
     ]
    }
   ],
   "source": [
    "# Doing tests for european option pricing on real data\n",
    "# Import the data from yahoo finance\n",
    "import yfinance as yf\n",
    "# Get the data for the stock\n",
    "data = yf.download('AAPL', start='2022-01-01', end='2023-01-01')"
   ],
   "metadata": {
    "collapsed": false
   }
  },
  {
   "cell_type": "code",
   "execution_count": 73,
   "outputs": [
    {
     "data": {
      "text/plain": "180.1909637451172"
     },
     "execution_count": 73,
     "metadata": {},
     "output_type": "execute_result"
    }
   ],
   "source": [
    "data['Adj Close'][0]"
   ],
   "metadata": {
    "collapsed": false
   }
  },
  {
   "cell_type": "code",
   "execution_count": 82,
   "outputs": [
    {
     "data": {
      "text/plain": "9.262477036821265"
     },
     "execution_count": 82,
     "metadata": {},
     "output_type": "execute_result"
    }
   ],
   "source": [
    "# Calculate the daily return\n",
    "data['daily_return'] = data['Adj Close'].pct_change()\n",
    "# Calculate the volatility\n",
    "sigma = np.sqrt(np.sum(data['daily_return']**2)/(len(data)-1))\n",
    "# Calculate the risk free rate\n",
    "rf = 0.025\n",
    "# Time to maturity\n",
    "T = 900/365\n",
    "# Number of steps\n",
    "n = 100\n",
    "# Initial stock price\n",
    "S = data['Adj Close'][0]\n",
    "# Strike price\n",
    "K = 182\n",
    "# Calculate the option price\n",
    "european_option_pricing(S, K, rf, sigma, T, n)"
   ],
   "metadata": {
    "collapsed": false
   }
  },
  {
   "cell_type": "code",
   "execution_count": 83,
   "outputs": [
    {
     "data": {
      "text/plain": "9.262477036821265"
     },
     "execution_count": 83,
     "metadata": {},
     "output_type": "execute_result"
    }
   ],
   "source": [
    "# Calculating the american option price\n",
    "american_option_pricing(S, K, rf, sigma, T, n, option_type=\"call\")"
   ],
   "metadata": {
    "collapsed": false
   }
  },
  {
   "cell_type": "code",
   "execution_count": null,
   "outputs": [],
   "source": [],
   "metadata": {
    "collapsed": false
   }
  },
  {
   "cell_type": "code",
   "execution_count": 19,
   "outputs": [],
   "source": [
    "# Create a function to calculate the delta\n",
    "def delta(S, K, r, sigma, T, n):\n",
    "    \"\"\"\n",
    "    S: initial stock price\n",
    "    K: strike price\n",
    "    r: risk free rate\n",
    "    sigma: volatility\n",
    "    T: time to maturity\n",
    "    n: number of steps\n",
    "    :returns: delta : change in option price with respect to the change in stock price\n",
    "    \"\"\"\n",
    "    # Calculate delta t\n",
    "    delta_t = T/n\n",
    "    # Calculate u and d\n",
    "    u = np.exp(sigma*np.sqrt(delta_t))\n",
    "    d = 1/u\n",
    "    # Calculate p\n",
    "    p = (np.exp(r*delta_t)-d)/(u-d)\n",
    "    # Create a matrix to store the stock price\n",
    "    stock_price = np.zeros((n+1, n+1))\n",
    "    # Calculate the stock price at each node\n",
    "    for i in range(n+1):\n",
    "        for j in range(i+1):\n",
    "            stock_price[j, i] = S*(d**j)*(u**(i-j))\n",
    "    # Create a matrix to store the option price\n",
    "    option_price = np.zeros((n+1, n+1))\n",
    "    # Calculate the option price at maturity\n",
    "    option_price[:, n] = np.maximum(np.zeros(n+1), stock_price[:, n]-K)\n",
    "    # Calculate the option price at each node\n",
    "    for i in range(n-1, -1, -1):\n",
    "        for j in range(i+1):\n",
    "            option_price[j, i] = np.exp(-r*delta_t)*(p*option_price[j, i+1]+(1-p)*option_price[j+1, i+1])\n",
    "    # Calculate the delta\n",
    "    delta = (option_price[0, 1]-option_price[1, 1])/(stock_price[0, 1]-stock_price[1, 1])\n",
    "    # Return the delta\n",
    "    return delta"
   ],
   "metadata": {
    "collapsed": false
   }
  },
  {
   "cell_type": "code",
   "execution_count": 63,
   "outputs": [],
   "source": [
    "# Create a function to calculate the gamma, the gamma is the second derivative of the option price with respect to the stock price\n",
    "# To calculate the gamma we need to calculate the delta at two different stock prices and then calculate the difference between the two deltas\n",
    "def gamma(delta1, delta2, S1, S2):\n",
    "    \"\"\"\n",
    "    delta1: delta at stock price S1\n",
    "    delta2: delta at stock price S2\n",
    "    S1: stock price 1\n",
    "    S2: stock price 2\n",
    "    :returns: gamma : change in delta with respect to the change in stock price\n",
    "    \"\"\"\n",
    "    # Calculate the gamma\n",
    "    gamma = (delta1-delta2)/(S1-S2)\n",
    "    # Return the gamma\n",
    "    return gamma"
   ],
   "metadata": {
    "collapsed": false
   }
  },
  {
   "cell_type": "code",
   "execution_count": 21,
   "outputs": [],
   "source": [
    "# Create a function to calculate the vega, the vega is the change in option price with respect to the change in volatility\n",
    "def vega(S, K, r, sigma, T, n):\n",
    "    \"\"\"\n",
    "    S: initial stock price\n",
    "    K: strike price\n",
    "    r: risk free rate\n",
    "    sigma: volatility\n",
    "    T: time to maturity\n",
    "    n: number of steps\n",
    "    :returns: vega : change in option price with respect to the change in volatility\n",
    "    \"\"\"\n",
    "    # Calculate delta t\n",
    "    delta_t = T/n\n",
    "    # Calculate u and d\n",
    "    u = np.exp(sigma*np.sqrt(delta_t))\n",
    "    d = 1/u\n",
    "    # Calculate p\n",
    "    p = (np.exp(r*delta_t)-d)/(u-d)\n",
    "    # Create a matrix to store the stock price\n",
    "    stock_price = np.zeros((n+1, n+1))\n",
    "    # Calculate the stock price at each node\n",
    "    for i in range(n+1):\n",
    "        for j in range(i+1):\n",
    "            stock_price[j, i] = S*(d**j)*(u**(i-j))\n",
    "    # Create a matrix to store the option price\n",
    "    option_price = np.zeros((n+1, n+1))\n",
    "    # Calculate the option price at maturity\n",
    "    option_price[:, n] = np.maximum(np.zeros(n+1), stock_price[:, n]-K)\n",
    "    # Calculate the option price at each node\n",
    "    for i in range(n-1, -1, -1):\n",
    "        for j in range(i+1):\n",
    "            option_price[j, i] = np.exp(-r*delta_t)*(p*option_price[j, i+1]+(1-p)*option_price[j+1, i+1])\n",
    "    # Calculate the vega\n",
    "    vega = (option_price[0, 1]-option_price[0, 0])/(sigma*0.01)\n",
    "    # Return the vega\n",
    "    return vega"
   ],
   "metadata": {
    "collapsed": false
   }
  },
  {
   "cell_type": "code",
   "execution_count": 65,
   "outputs": [
    {
     "name": "stdout",
     "output_type": "stream",
     "text": [
      "delta1 = 0.3663 and delta2 = 0.3682\n",
      "gamma = 0.1880\n"
     ]
    }
   ],
   "source": [
    "# calculate the delta\n",
    "delta1 = delta(S, K, rf, sigma, T, n)\n",
    "# calculate the delta at a different stock price\n",
    "delta2 = delta(S+0.01, K, rf, sigma, T, n)\n",
    "print(\"delta1 = %.4f and delta2 = %.4f\" %(delta1, delta2))\n",
    "# calculate the gamma\n",
    "g = gamma(delta1, delta2, S, S+0.01)\n",
    "print(\"gamma = %.4f\" %g)"
   ],
   "metadata": {
    "collapsed": false
   }
  },
  {
   "cell_type": "code",
   "execution_count": 66,
   "outputs": [
    {
     "name": "stdout",
     "output_type": "stream",
     "text": [
      "vega = 309.9449\n"
     ]
    }
   ],
   "source": [
    "# calculate the vega\n",
    "v = vega(S, K, rf, sigma, T, n)\n",
    "print(\"vega = %.4f\" %v)"
   ],
   "metadata": {
    "collapsed": false
   }
  },
  {
   "cell_type": "code",
   "execution_count": 67,
   "outputs": [
    {
     "data": {
      "text/plain": "<Figure size 640x480 with 1 Axes>",
      "image/png": "[encoded data removed]"
     },
     "metadata": {},
     "output_type": "display_data"
    }
   ],
   "source": [
    "# Creating plots for the greeks\n",
    "# Create a list of stock prices\n",
    "stock_price = np.arange(100, 200, 1)\n",
    "# Create a list of deltas\n",
    "delta_list = []\n",
    "# Create a list of gammas\n",
    "gamma_list = []\n",
    "# Create a list of vegas\n",
    "vega_list = []\n",
    "# Calculate the delta, gamma and vega for each stock price\n",
    "for i in stock_price:\n",
    "    delta_list.append(delta(i, K, rf, sigma, T, n))\n",
    "    gamma_list.append(gamma(delta(i, K, rf, sigma, T, n), delta(i+0.01, K, rf, sigma, T, n), i, i+0.01))\n",
    "    vega_list.append(vega(i, K, rf, sigma, T, n))\n",
    "# Plot the delta\n",
    "plt.plot(stock_price, delta_list)\n",
    "plt.xlabel(\"Stock Price\")\n",
    "plt.ylabel(\"Delta\")\n",
    "plt.title(\"Delta vs Stock Price\")\n",
    "plt.show()\n"
   ],
   "metadata": {
    "collapsed": false
   }
  },
  {
   "cell_type": "code",
   "execution_count": 68,
   "outputs": [
    {
     "data": {
      "text/plain": "<Figure size 640x480 with 1 Axes>",
      "image/png": "[encoded data removed]"
     },
     "metadata": {},
     "output_type": "display_data"
    }
   ],
   "source": [
    "# Plot the gamma\n",
    "plt.plot(stock_price, gamma_list)\n",
    "plt.xlabel(\"Stock Price\")\n",
    "plt.ylabel(\"Gamma\")\n",
    "plt.title(\"Gamma vs Stock Price\")\n",
    "plt.show()\n"
   ],
   "metadata": {
    "collapsed": false
   }
  },
  {
   "cell_type": "code",
   "execution_count": 69,
   "outputs": [
    {
     "data": {
      "text/plain": "<Figure size 640x480 with 1 Axes>",
      "image/png": "[encoded data removed]"
     },
     "metadata": {},
     "output_type": "display_data"
    }
   ],
   "source": [
    "# Plot the vega\n",
    "plt.plot(stock_price, vega_list)\n",
    "plt.xlabel(\"Stock Price\")\n",
    "plt.ylabel(\"Vega\")\n",
    "plt.title(\"Vega vs Stock Price\")\n",
    "plt.show()"
   ],
   "metadata": {
    "collapsed": false
   }
  },
  {
   "cell_type": "code",
   "execution_count": 79,
   "outputs": [
    {
     "data": {
      "text/plain": "1.195238135061743"
     },
     "execution_count": 79,
     "metadata": {},
     "output_type": "execute_result"
    }
   ],
   "source": [],
   "metadata": {
    "collapsed": false
   }
  },
  {
   "cell_type": "code",
   "execution_count": null,
   "outputs": [],
   "source": [],
   "metadata": {
    "collapsed": false
   }
  }
 ],
 "metadata": {
  "kernelspec": {
   "display_name": "Python 3",
   "language": "python",
   "name": "python3"
  },
  "language_info": {
   "codemirror_mode": {
    "name": "ipython",
    "version": 2
   },
   "file_extension": ".py",
   "mimetype": "text/x-python",
   "name": "python",
   "nbconvert_exporter": "python",
   "pygments_lexer": "ipython2",
   "version": "2.7.6"
  }
 },
 "nbformat": 4,
 "nbformat_minor": 0
}
